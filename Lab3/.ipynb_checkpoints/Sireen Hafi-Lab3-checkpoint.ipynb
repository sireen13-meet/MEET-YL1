{
 "metadata": {
  "name": ""
 },
 "nbformat": 3,
 "nbformat_minor": 0,
 "worksheets": [
  {
   "cells": [
    {
     "cell_type": "markdown",
     "metadata": {},
     "source": [
      "import csv"
     ]
    },
    {
     "cell_type": "code",
     "collapsed": false,
     "input": [
      "f = open(\"cig.csv\", \"rb\")\n",
      "r = csv.reader(f)\n",
      "rownum = 0\n",
      "weight = []\n",
      "volume = []\n",
      "\n",
      "for row in r:\n",
      "    if rownum != 0:\n",
      "        a = row[0].split()\n",
      "        b = map(float, a[1:])\n",
      "        weight.append(b[1])\n",
      "        volume.append(b[2])\n",
      "\n",
      "    rownum +=1\n",
      "    \n",
      "print weight\n",
      "print volume\n",
      "\n",
      "f.close()"
     ],
     "language": "python",
     "metadata": {},
     "outputs": [
      {
       "output_type": "stream",
       "stream": "stdout",
       "text": [
        "[1.06, 2.03, 0.67, 0.4, 1.04, 0.76, 0.95, 1.12, 1.02, 1.01, 0.9, 0.57, 0.78, 0.74, 0.13, 1.26, 1.08, 0.96, 0.42, 1.01, 0.61, 0.69, 1.02, 0.82]\n",
        "[1.0938, 1.165, 0.928, 0.9462, 0.8885, 1.0267, 0.9225, 0.9372, 0.8858, 0.9643, 0.9316, 0.9705, 1.124, 0.8517, 0.7851, 0.9186, 1.0395, 0.9573, 0.9106, 1.007, 0.9806, 0.9693, 0.9496, 1.1184]\n"
       ]
      }
     ],
     "prompt_number": 29
    },
    {
     "cell_type": "code",
     "collapsed": false,
     "input": [
      "import csv\n",
      "f = open(\"cig.csv\", \"rb\")\n",
      "r = csv.reader(f)\n",
      "rownum = 0\n",
      "weight = []\n",
      "volume = []\n",
      "\n",
      "for row in r:\n",
      "    if rownum != 0:\n",
      "        a = row[0].split()\n",
      "        b = map(float, a[1:])\n",
      "        weight.append(b[1])\n",
      "        volume.append(b[2])\n",
      "\n",
      "    rownum += 1\n",
      "\n",
      "f.close()\n",
      "\n",
      "from pylab import *\n",
      "\n",
      "fig = plt.figure()\n",
      "ax = fig.add_subplot(111)\n",
      "ax.set_title('Oyster weight and volume')\n",
      "ax.set_xlabel('Oyster weight (g)')\n",
      "ax.set_ylabel('Oyster volume (cc)')\n",
      "scatter(weight, volume)\n",
      "fig.savefig(\"oyster_with_titles.png\")"
     ],
     "language": "python",
     "metadata": {},
     "outputs": [],
     "prompt_number": 16
    }
   ],
   "metadata": {}
  }
 ]
}